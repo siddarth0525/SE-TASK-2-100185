{
  "nbformat": 4,
  "nbformat_minor": 0,
  "metadata": {
    "colab": {
      "provenance": [],
      "authorship_tag": "ABX9TyNQ1mevbE00/c8b9ytbrpbm",
      "include_colab_link": true
    },
    "kernelspec": {
      "name": "python3",
      "display_name": "Python 3"
    },
    "language_info": {
      "name": "python"
    }
  },
  "cells": [
    {
      "cell_type": "markdown",
      "metadata": {
        "id": "view-in-github",
        "colab_type": "text"
      },
      "source": [
        "<a href=\"https://colab.research.google.com/github/siddarth0525/SE-TASK-2-100185/blob/main/HU22CSEN0100185.ipynb\" target=\"_parent\"><img src=\"https://colab.research.google.com/assets/colab-badge.svg\" alt=\"Open In Colab\"/></a>"
      ]
    },
    {
      "cell_type": "markdown",
      "source": [
        "1.Hardcoding Variables"
      ],
      "metadata": {
        "id": "ATI-Yr_xW8vC"
      }
    },
    {
      "cell_type": "code",
      "source": [
        "# Hard-Coding Variables\n",
        "number1 = 10\n",
        "number2 = 5\n",
        "\n",
        "# Performing an operation using hard-coded values\n",
        "result = number1 + number2\n",
        "print(f\"Hardcoded result of {number1} + {number2} = {result}\")\n"
      ],
      "metadata": {
        "colab": {
          "base_uri": "https://localhost:8080/"
        },
        "id": "9UJKHkIpNbjb",
        "outputId": "27f59736-b6f3-48aa-a5de-1a2fc18141ca"
      },
      "execution_count": null,
      "outputs": [
        {
          "output_type": "stream",
          "name": "stdout",
          "text": [
            "Hardcoded result of 10 + 5 = 15\n"
          ]
        }
      ]
    },
    {
      "cell_type": "markdown",
      "source": [
        "2.\tKeyboard Input\n"
      ],
      "metadata": {
        "id": "_FCX39QAPB9B"
      }
    },
    {
      "cell_type": "code",
      "source": [
        "# Keyboard Input\n",
        "user_input = input(\"Enter a number: \")\n",
        "user_input = int(user_input)  # Convert the input to an integer\n",
        "\n",
        "# Perform a simple addition\n",
        "total = result + user_input\n",
        "print(f\"Sum of hardcoded result and user input: {total}\")"
      ],
      "metadata": {
        "id": "Z_3PM5OIUAKx",
        "outputId": "e8a8bba9-b26e-4dca-e686-e27dcf575761",
        "colab": {
          "base_uri": "https://localhost:8080/"
        }
      },
      "execution_count": null,
      "outputs": [
        {
          "output_type": "stream",
          "name": "stdout",
          "text": [
            "Enter a number: 2\n",
            "Sum of hardcoded result and user input: 17\n"
          ]
        }
      ]
    },
    {
      "cell_type": "markdown",
      "source": [
        "3.Read From File (Single Input)"
      ],
      "metadata": {
        "id": "dx75ZjFUQ6q9"
      }
    },
    {
      "cell_type": "code",
      "source": [
        "# Read a single input from a file\n",
        "filename = '/content/SIDDARTH.txt'  # File containing a single input\n",
        "\n",
        "try:\n",
        "    with open(filename, 'r') as file:  # Open the file in read mode\n",
        "            single_input = file.readline().strip()  # Read the first line and remove any extra whitespace\n",
        "    print(f\"The input from the file is: {single_input}\")\n",
        "except FileNotFoundError:\n",
        "    print(f\"Error: The file {filename} was not found.\")"
      ],
      "metadata": {
        "colab": {
          "base_uri": "https://localhost:8080/"
        },
        "id": "M910xZ-hSwHM",
        "outputId": "984d1c08-0c89-4cfb-9a61-0f2e431fc3bf"
      },
      "execution_count": null,
      "outputs": [
        {
          "output_type": "stream",
          "name": "stdout",
          "text": [
            "The input from the file is: SIDDARTH\n"
          ]
        }
      ]
    },
    {
      "cell_type": "markdown",
      "source": [
        "4.\tRead From File (Multiple Inputs)"
      ],
      "metadata": {
        "id": "63IbKwB5VY5E"
      }
    },
    {
      "cell_type": "code",
      "source": [
        "# Read multiple inputs from a file and process them\n",
        "filename = '/content/karthik,25,New York.txt'  # File containing multiple inputs\n",
        "\n",
        "try:\n",
        "    with open(filename, 'r') as file:\n",
        "            # Read all lines from the file\n",
        "            lines = file.readlines()\n",
        "\n",
        "    # Process each line\n",
        "    for line in lines:\n",
        "        # Split the line into name, age, and city\n",
        "        name, age, city = line.strip().split(',')\n",
        "\n",
        "        # Display the processed data\n",
        "        print(f\"Name: {name}, Age: {age}, City: {city}\")\n",
        "\n",
        "except FileNotFoundError:\n",
        "     print(f\"Error: The file {filename} was not found.\")"
      ],
      "metadata": {
        "colab": {
          "base_uri": "https://localhost:8080/"
        },
        "id": "2sQLLXxJVeKU",
        "outputId": "511f1a4e-8edf-4f81-8a68-e1b1a30a31c0"
      },
      "execution_count": 16,
      "outputs": [
        {
          "output_type": "stream",
          "name": "stdout",
          "text": [
            "Name: karthik, Age: 25, City: New York\n",
            "Name: sunny, Age: 30, City: Los Angeles\n",
            "Name: udith, Age: 35, City: Chicago\n"
          ]
        }
      ]
    },
    {
      "cell_type": "markdown",
      "source": [
        "5.\tSave All Versions"
      ],
      "metadata": {
        "id": "xYoxq401WTMi"
      }
    },
    {
      "cell_type": "code",
      "source": [
        "# Write multiple numbers to a file\n",
        "with open('multiple_inputs.txt', 'w') as file:\n",
        "    file.write(\"50\\n200\\n100\")  # Write multiple numbers, each on a new line\n",
        "\n",
        "    print(\"multiple_inputs.txt created!\")  # Confirmation message"
      ],
      "metadata": {
        "colab": {
          "base_uri": "https://localhost:8080/"
        },
        "id": "PJOKRg0HWV45",
        "outputId": "b0b30eea-8c0b-4b18-bfb1-169926b7f1fa"
      },
      "execution_count": 18,
      "outputs": [
        {
          "output_type": "stream",
          "name": "stdout",
          "text": [
            "multiple_inputs.txt created!\n"
          ]
        }
      ]
    },
    {
      "cell_type": "markdown",
      "source": [
        "6.\tDebug and Fix Errors"
      ],
      "metadata": {
        "id": "5w5XyavuXOXG"
      }
    },
    {
      "cell_type": "code",
      "source": [
        "# Read From File (Multiple Inputs) Example\n",
        "# Program: Read multiple numbers from a file and calculate their sum\n",
        "\n",
        "try:\n",
        "    with open('multiple_inputs.txt', 'r') as file:\n",
        "        numbers = file.readlines()  # Read all lines from the file\n",
        "        numbers = [int(num.strip()) for num in numbers]  # Convert each line to an integer\n",
        "\n",
        "    result = sum(numbers)  # Calculate the sum of the numbers\n",
        "    print(f\"Numbers from file: {numbers}, Sum: {result}\")  # Output the numbers and their sum\n",
        "\n",
        "except FileNotFoundError:\n",
        "    print(\"File not found. Please create a file named 'multiple_inputs.txt'.\")\n",
        "except ValueError:\n",
        "    print(\"File content must contain valid integers.\")"
      ],
      "metadata": {
        "colab": {
          "base_uri": "https://localhost:8080/"
        },
        "id": "r6HbmX9zXc_9",
        "outputId": "e3b43f9e-bd70-4f5a-9e95-d9897e020af9"
      },
      "execution_count": 19,
      "outputs": [
        {
          "output_type": "stream",
          "name": "stdout",
          "text": [
            "Numbers from file: [50, 200, 100], Sum: 350\n"
          ]
        }
      ]
    }
  ]
}